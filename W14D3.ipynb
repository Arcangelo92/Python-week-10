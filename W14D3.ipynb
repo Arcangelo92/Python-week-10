{
 "cells": [
  {
   "cell_type": "code",
   "execution_count": 1,
   "id": "1875978a-1df7-4286-851e-4051d2cf1b10",
   "metadata": {},
   "outputs": [
    {
     "name": "stdout",
     "output_type": "stream",
     "text": [
      "Seno di 90 gradi è: 1.0\n",
      "Coseno di 180 gradi è: -1.0\n",
      "Fattoriale di 3 è: 6\n",
      "pi greco: 3.14\n"
     ]
    }
   ],
   "source": [
    "#Es.1\n",
    "import math as m\n",
    "seno_90 = m.sin(m.radians(90))\n",
    "coseno_180 = m.cos(m.radians(180))\n",
    "fattoriale_3 = m.factorial(3)\n",
    "pi_greco = m.pi\n",
    "\n",
    "print(\"Seno di 90 gradi è:\", seno_90)\n",
    "print(\"Coseno di 180 gradi è:\", coseno_180)\n",
    "print(\"Fattoriale di 3 è:\", fattoriale_3)\n",
    "print(\"pi greco:\", round(pi_greco,2))"
   ]
  },
  {
   "cell_type": "code",
   "execution_count": 2,
   "id": "eb43752e-c097-42c4-a022-e0f15aca1a23",
   "metadata": {},
   "outputs": [
    {
     "data": {
      "text/plain": [
       "180.0"
      ]
     },
     "execution_count": 2,
     "metadata": {},
     "output_type": "execute_result"
    }
   ],
   "source": [
    "#Es.2\n",
    "import math\n",
    "math.degrees(math.pi)"
   ]
  },
  {
   "cell_type": "code",
   "execution_count": 3,
   "id": "b46b9396-1373-478f-b4f9-cf273751ecf4",
   "metadata": {},
   "outputs": [
    {
     "name": "stdout",
     "output_type": "stream",
     "text": [
      "Help on built-in function degrees in module math:\n",
      "\n",
      "degrees(x, /)\n",
      "    Convert angle x from radians to degrees.\n",
      "\n"
     ]
    }
   ],
   "source": [
    "help(math.degrees)"
   ]
  },
  {
   "cell_type": "code",
   "execution_count": 23,
   "id": "c30f0eb4-6afc-46bb-b332-4e69242f40b0",
   "metadata": {},
   "outputs": [
    {
     "name": "stdout",
     "output_type": "stream",
     "text": [
      "Il valore minimo è: 1280\n",
      "Il valore massimo è: 8150\n",
      "Vendite superiori a 4999: [5500, 7200, 6410, 8150, 7100, 5350]\n",
      "Numero di vendite superiori a 4999: 6\n",
      "Vendite inferiori a 3000: [2000, 1280, 1900, 2500]\n",
      "Numero di vendite inferiori a 3000: 4\n",
      "Media delle vendite mensili: 4634.17\n"
     ]
    }
   ],
   "source": [
    "#L'azienda Object SpA ha creato una lista di quanti oggetti ha venduto ogni mese nell'ultimo anno: \n",
    "import numpy as np\n",
    "lst = [2000, 5500, 7200, 4320, 1280, 1900, 2500, 3900, 6410, 8150, 7100, 5350]\n",
    "lst = np.array(lst)\n",
    "\n",
    "#qual è stata la vendita massima mensile? E quella minima?\n",
    "\n",
    "minimo = min(lst)\n",
    "massimo = max(lst)\n",
    "print (\"Il valore minimo è:\", minimo)\n",
    "print (\"Il valore massimo è:\", massimo)\n",
    "\n",
    "#quali sono le vendite mensili maggiori di 4999 oggetti? E quante ne sono?\n",
    "\n",
    "vendite_superiori_a_4999 = []\n",
    "for oggetto in lst:\n",
    "    if oggetto > 4999:\n",
    "        vendite_superiori_a_4999.append(oggetto)    \n",
    "\n",
    "print(\"Vendite superiori a 4999:\", vendite_superiori_a_4999)\n",
    "print(\"Numero di vendite superiori a 4999:\", len(vendite_superiori_a_4999))\n",
    "\n",
    "#quali sono le vendite minori di 3000 oggetti?\n",
    "vendite_inferiori_a_3000 = []\n",
    "for oggetto in lst:\n",
    "    if oggetto < 3000:\n",
    "        vendite_inferiori_a_3000.append(oggetto)    \n",
    "\n",
    "print(\"Vendite inferiori a 3000:\", vendite_inferiori_a_3000)\n",
    "print(\"Numero di vendite inferiori a 3000:\", len(vendite_inferiori_a_3000))\n",
    "\n",
    "#in media quanti oggetti sono stati venduti al mese?\n",
    "media = np.mean(lst)\n",
    "print(\"Media delle vendite mensili:\", round(media,2))\n"
   ]
  },
  {
   "cell_type": "code",
   "execution_count": 19,
   "id": "3142d766-704b-4177-b599-64a11adebd97",
   "metadata": {},
   "outputs": [
    {
     "data": {
      "text/plain": [
       "12000"
      ]
     },
     "execution_count": 19,
     "metadata": {},
     "output_type": "execute_result"
    }
   ],
   "source": [
    "#Es.4 \n",
    "import pandas as pd\n",
    "\n",
    "fatturati_dict = {1997: 12_000, 1998: 15_000, 1999: 20_000, 2000: 23_000, 2001: 25_000, 2002: 17_000, 2003: 14_000, 2004: 21_000}\n",
    "fatturati_series = pd.Series([12_000, 15_000, 20_000, 23_000, 25_000, 17_000, 14_000, 21_000], \n",
    "                             index=range(1997, 2005))\n",
    "fatturati_dict[1997] \n",
    "fatturati_series[1997]"
   ]
  },
  {
   "cell_type": "code",
   "execution_count": 22,
   "id": "4b3128e6-87fc-44e4-8986-286be9aa8863",
   "metadata": {},
   "outputs": [
    {
     "name": "stdout",
     "output_type": "stream",
     "text": [
      "Stipendi raddoppiati con ciclo for: [200, 400, 600, 800, 1000, 1200, 1400, 1600, 1800, 2000]\n",
      "Stipendi raddoppiati con masking: [ 200  400  600  800 1000 1200 1400 1600 1800 2000]\n"
     ]
    }
   ],
   "source": [
    "#L'azienda Object SpA ha un dataset con tutti gli stipendi dei dipendenti, memorizzato in un ndarray:\n",
    "import numpy as np \n",
    "stipendi = np.array( [100, 200, 300, 400, 500,  600, 700, 800, 900, 1000] )\n",
    "\n",
    "#L'azienda ci chiede di raddoppiare tutti gli stipendi; facciamolo in due modi: con un ciclo for, con il masking\n",
    "\n",
    "Raddoppiati = []\n",
    "for stipendio in stipendi:\n",
    "    Raddoppiati.append(stipendio * 2)\n",
    "\n",
    "print(\"Stipendi raddoppiati con ciclo for:\", Raddoppiati)\n",
    "#-------------------------------------------------------------------------------------------------------------------------------\n",
    "risultato = stipendi * 2\n",
    "print (\"Stipendi raddoppiati con masking:\", risultato)"
   ]
  },
  {
   "cell_type": "code",
   "execution_count": null,
   "id": "41ce5f7e-732f-4120-a3cd-f86b4508ac48",
   "metadata": {},
   "outputs": [],
   "source": []
  }
 ],
 "metadata": {
  "kernelspec": {
   "display_name": "Python 3 (ipykernel)",
   "language": "python",
   "name": "python3"
  },
  "language_info": {
   "codemirror_mode": {
    "name": "ipython",
    "version": 3
   },
   "file_extension": ".py",
   "mimetype": "text/x-python",
   "name": "python",
   "nbconvert_exporter": "python",
   "pygments_lexer": "ipython3",
   "version": "3.11.7"
  }
 },
 "nbformat": 4,
 "nbformat_minor": 5
}
